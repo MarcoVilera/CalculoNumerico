{
 "cells": [
  {
   "cell_type": "code",
   "execution_count": 9,
   "id": "3111e1b9-8298-4d86-bf45-cf606eb67f7b",
   "metadata": {},
   "outputs": [],
   "source": [
    "import numpy as np\n",
    "import random"
   ]
  },
  {
   "cell_type": "code",
   "execution_count": 37,
   "id": "c61002fe-bcb0-4bbd-8705-604b1b6fbddb",
   "metadata": {},
   "outputs": [],
   "source": [
    "#TODO Implementar método doolitle\n",
    "def doolitle(matriz):\n",
    "    pass"
   ]
  },
  {
   "cell_type": "code",
   "execution_count": 54,
   "id": "e6d6137d-b0c2-4de2-a9a5-ac67aba0dfbe",
   "metadata": {},
   "outputs": [],
   "source": [
    "def choleski(matriz):\n",
    "    if np.linalg.det(matriz) <=0:\n",
    "        return 'Para el método de Cholesky, el determinante debe ser positivo y resultó ser ' + str(np.linalg.det(matriz))\n",
    "    B=np.transpose(matriz)\n",
    "    if not np.array_equal(matriz,B):\n",
    "        return 'Para el método de Cholesky, la matriz debe ser simetrica'\n",
    "\n",
    "    L = np.linalg.cholesky(matriz)\n",
    "    U = np.transpose(L)\n",
    "\n",
    "    #return str(A)+' = '+str(L)+' * '+str(U)\n",
    "    print('Matriz Triangular Resultante')\n",
    "    return str(L)"
   ]
  },
  {
   "cell_type": "code",
   "execution_count": 47,
   "id": "4b08b5fb-4ab0-406e-a076-b8205880cfff",
   "metadata": {},
   "outputs": [
    {
     "name": "stdin",
     "output_type": "stream",
     "text": [
      "Introduce el tamaño de la matriz cuadrada  3\n"
     ]
    }
   ],
   "source": [
    "n = int(input('Introduce el tamaño de la matriz cuadrada '))\n",
    "A = np.zeros([n,n])"
   ]
  },
  {
   "cell_type": "code",
   "execution_count": 50,
   "id": "d19fe539-ff31-463c-b776-8dd9b55f50a5",
   "metadata": {},
   "outputs": [
    {
     "name": "stdin",
     "output_type": "stream",
     "text": [
      "Desea rellenar la matriz de manera manual o aleatorio? manual\n",
      "Elemento (1,1)  5\n",
      "Elemento (1,2)  1\n",
      "Elemento (1,3)  3\n",
      "Elemento (2,1)  1\n",
      "Elemento (2,2)  8\n",
      "Elemento (2,3)  2\n",
      "Elemento (3,1)  3\n",
      "Elemento (3,2)  2\n",
      "Elemento (3,3)  5\n"
     ]
    }
   ],
   "source": [
    "fill = input('Desea rellenar la matriz de manera manual o aleatorio?').lower()\n",
    "if fill == 'aleatorio':\n",
    "    for i in range(n):\n",
    "        for j in range(n):\n",
    "            A[i,j] = random.randint(0,10)\n",
    "else:\n",
    "    for i in range(n):\n",
    "        for j in range(n):\n",
    "            A[i,j] = int(input('Elemento ('+str(i+1)+','+str(j+1)+') '))\n"
   ]
  },
  {
   "cell_type": "code",
   "execution_count": 51,
   "id": "b0ecd62b-25c5-4ab7-8bd3-81a9aaa96f99",
   "metadata": {},
   "outputs": [
    {
     "name": "stdout",
     "output_type": "stream",
     "text": [
      "Matriz Generada\n",
      "[[5. 1. 3.]\n",
      " [1. 8. 2.]\n",
      " [3. 2. 5.]]\n"
     ]
    }
   ],
   "source": [
    "print('Matriz Generada')\n",
    "print(A)"
   ]
  },
  {
   "cell_type": "code",
   "execution_count": 52,
   "id": "68012d06-2da9-4391-8d95-9c08e71e4991",
   "metadata": {},
   "outputs": [
    {
     "name": "stdin",
     "output_type": "stream",
     "text": [
      "Seleccione el método de descomposición Doolitle o Choleski choleski\n"
     ]
    }
   ],
   "source": [
    "choice = input('Seleccione el método de descomposición Doolitle o Choleski').lower()"
   ]
  },
  {
   "cell_type": "code",
   "execution_count": 55,
   "id": "3c2888ca-6a2f-4581-a84b-0bd462c369ae",
   "metadata": {},
   "outputs": [
    {
     "name": "stdout",
     "output_type": "stream",
     "text": [
      "Matriz Triangular Resultante\n",
      "[[2.23606798 0.         0.        ]\n",
      " [0.4472136  2.79284801 0.        ]\n",
      " [1.34164079 0.50128041 1.71718314]]\n"
     ]
    }
   ],
   "source": [
    "if choice == 'doolitle':\n",
    "    doolitle(A)\n",
    "else:\n",
    "    print(choleski(A))"
   ]
  },
  {
   "cell_type": "code",
   "execution_count": null,
   "id": "43bc640a-4814-440b-afb6-6344ba41c8e0",
   "metadata": {},
   "outputs": [],
   "source": []
  },
  {
   "cell_type": "code",
   "execution_count": null,
   "id": "d65b39f5-fd71-4aa9-8a7f-2cd9a808a2fe",
   "metadata": {},
   "outputs": [],
   "source": []
  },
  {
   "cell_type": "code",
   "execution_count": null,
   "id": "1bd30584-e43c-47b4-b370-81ba0252def1",
   "metadata": {},
   "outputs": [],
   "source": []
  },
  {
   "cell_type": "code",
   "execution_count": null,
   "id": "b2b9fda2-0baf-422e-b33d-abdf05dfd1ca",
   "metadata": {},
   "outputs": [],
   "source": []
  },
  {
   "cell_type": "code",
   "execution_count": null,
   "id": "970a214d-06d6-4321-a5b1-8054a8c0c481",
   "metadata": {},
   "outputs": [],
   "source": []
  },
  {
   "cell_type": "code",
   "execution_count": null,
   "id": "62495e20-6d4e-4e6e-94d7-1e7a11aa2a0e",
   "metadata": {},
   "outputs": [],
   "source": []
  }
 ],
 "metadata": {
  "kernelspec": {
   "display_name": "Python 3 (ipykernel)",
   "language": "python",
   "name": "python3"
  },
  "language_info": {
   "codemirror_mode": {
    "name": "ipython",
    "version": 3
   },
   "file_extension": ".py",
   "mimetype": "text/x-python",
   "name": "python",
   "nbconvert_exporter": "python",
   "pygments_lexer": "ipython3",
   "version": "3.11.5"
  }
 },
 "nbformat": 4,
 "nbformat_minor": 5
}
